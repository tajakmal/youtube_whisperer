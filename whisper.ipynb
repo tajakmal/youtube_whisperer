{
 "cells": [
  {
   "cell_type": "code",
   "execution_count": null,
   "metadata": {},
   "outputs": [],
   "source": [
    "import os\n",
    "import requests\n",
    "from pytube import YouTube\n",
    "import openai\n",
    "from dotenv import load_dotenv\n",
    "\n",
    "load_dotenv()\n",
    "# environment variables"
   ]
  },
  {
   "cell_type": "code",
   "execution_count": null,
   "metadata": {},
   "outputs": [],
   "source": [
    "# Replace with your actual API key\n",
    "OPENAI_API_KEY = os.getenv(\"OPENAI_API_KEY\")\n",
    "\n",
    "def download_audio(url):\n",
    "    yt = YouTube(url)\n",
    "    audio = yt.streams.filter(only_audio=True).first()\n",
    "    audio_path = audio.download()\n",
    "    return audio_path, yt.title\n",
    "\n",
    "def transcribe_audio(audio_path):\n",
    "    url = \"https://api.openai.com/v1/audio/transcriptions\"\n",
    "    headers = {\"Authorization\": f\"Bearer {OPENAI_API_KEY}\"}\n",
    "    files = {\"file\": open(audio_path, \"rb\")}\n",
    "    data = {\"model\": \"whisper-1\"}\n",
    "    response = requests.post(url, headers=headers, files=files, data=data)\n",
    "    response.raise_for_status()\n",
    "    transcription = response.json()[\"text\"]\n",
    "    os.remove(audio_path)\n",
    "    return transcription"
   ]
  },
  {
   "cell_type": "code",
   "execution_count": null,
   "metadata": {},
   "outputs": [],
   "source": [
    "if __name__ == \"__main__\":\n",
    "    youtube_url = \"\"  # Replace with your actual YouTube video URL\n",
    "    audio_path, title = download_audio(youtube_url)\n",
    "    transcription = transcribe_audio(audio_path)\n",
    "    output_file = f\"{title}.txt\"\n",
    "    with open(output_file, \"w\") as f:\n",
    "        f.write(transcription)\n",
    "    print(f\"Transcription saved to {output_file}\")"
   ]
  }
 ],
 "metadata": {
  "kernelspec": {
   "display_name": ".venv",
   "language": "python",
   "name": "python3"
  },
  "language_info": {
   "codemirror_mode": {
    "name": "ipython",
    "version": 3
   },
   "file_extension": ".py",
   "mimetype": "text/x-python",
   "name": "python",
   "nbconvert_exporter": "python",
   "pygments_lexer": "ipython3",
   "version": "3.11.2"
  },
  "orig_nbformat": 4
 },
 "nbformat": 4,
 "nbformat_minor": 2
}
